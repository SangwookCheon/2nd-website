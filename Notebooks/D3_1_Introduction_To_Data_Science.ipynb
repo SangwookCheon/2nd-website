{
  "nbformat": 4,
  "nbformat_minor": 0,
  "metadata": {
    "colab": {
      "name": "D3_1. Introduction To Data Science",
      "provenance": [],
      "authorship_tag": "ABX9TyM3ju+Gy5zs02BnBRHKOq0L",
      "include_colab_link": true
    },
    "kernelspec": {
      "name": "python3",
      "display_name": "Python 3"
    }
  },
  "cells": [
    {
      "cell_type": "markdown",
      "metadata": {
        "id": "view-in-github",
        "colab_type": "text"
      },
      "source": [
        "<a href=\"https://colab.research.google.com/github/SangwookCheon/2nd-website/blob/master/Notebooks/D3_1_Introduction_To_Data_Science.ipynb\" target=\"_parent\"><img src=\"https://colab.research.google.com/assets/colab-badge.svg\" alt=\"Open In Colab\"/></a>"
      ]
    },
    {
      "cell_type": "markdown",
      "metadata": {
        "id": "P6z5M8HpC-un",
        "colab_type": "text"
      },
      "source": [
        "# Welcome to D3!\n",
        "We are going to introduce the best practices here."
      ]
    },
    {
      "cell_type": "code",
      "metadata": {
        "id": "nywJziYcBbAq",
        "colab_type": "code",
        "colab": {}
      },
      "source": [
        "# This Python 3 environment comes with many helpful analytics libraries installed\n",
        "# It is defined by the kaggle/python Docker image: https://github.com/kaggle/docker-python\n",
        "# For example, here's several helpful packages to load\n",
        "\n",
        "import numpy as np # linear algebra\n",
        "import pandas as pd # data processing, CSV file I/O (e.g. pd.read_csv)\n",
        "import matplotlib.pyplot as plt dsf\n",
        "from requests import get\n",
        "from bs4 import BeautifulSoup\n",
        "import folium\n",
        "\n",
        "%matplotlib inline"
      ],
      "execution_count": null,
      "outputs": []
    },
    {
      "cell_type": "code",
      "metadata": {
        "id": "BXbbt2oWCsak",
        "colab_type": "code",
        "colab": {}
      },
      "source": [
        "url = \"http://sekolah.data.kemdikbud.go.id/index.php/chome/profil/80B7060F-8DFA-E111-81C7-0115690FE9DE\"\n",
        "html = get(url)"
      ],
      "execution_count": null,
      "outputs": []
    },
    {
      "cell_type": "code",
      "metadata": {
        "id": "PgHM78AaCtot",
        "colab_type": "code",
        "colab": {}
      },
      "source": [
        "variable_name = 35 #@param {type:\"slider\", min:0, max:100, step:1}\n",
        "def scrape_info(url):\n",
        "    html = get(url)\n",
        "    soup = BeautifulSoup(html.text, 'html.parser')\n",
        "    \n",
        "    # School Name\n",
        "\n",
        "    name = soup.find('h4', class_='page-header')\n",
        "    unwanted = name.find('small')\n",
        "    unwanted.extract()\n",
        "    school_name = name.get_text()\n",
        "\n",
        "    # Important Quantities\n",
        "\n",
        "    num_list = []\n",
        "    for el in soup.find_all('font', class_='text-info'):\n",
        "        num_list.append(el.get_text())\n",
        "\n",
        "    num_teachers = int(num_list[0])\n",
        "    num_boys = int(num_list[1])\n",
        "    num_girls = int(num_list[2])\n",
        "    num_classrooms = int(num_list[9])\n",
        "    electricity_power = int(num_list[7].replace(',', ''))\n",
        "    land_area = int(num_list[8].replace(',', ''))\n",
        "\n",
        "    # Internet Access and Electricity - Yes or No\n",
        "    icons = soup.find_all('div', class_='col-xs-12 col-md-3 text-left')\n",
        "    sub_icons = icons[2]\n",
        "\n",
        "    temp2 = []\n",
        "    for el in sub_icons.find_all('i'):\n",
        "        temp2.append(str(el))\n",
        "\n",
        "    internet_access = 1\n",
        "    electricity_access = 1\n",
        "\n",
        "    if 'glyphicon-unchecked text-red' in temp2[1]:\n",
        "        internet_access = 0\n",
        "    elif 'glyphicon-unchecked text-red' in temp2[3]:\n",
        "        electricity_access = 0\n",
        "\n",
        "    # Number of Certified Teachers\n",
        "\n",
        "    temp = soup.find('div', {'id': 'gurusertifikasi'})\n",
        "    list1 = []\n",
        "    for el in temp.find_all('td', class_='text-right'):\n",
        "        list1.append(int(el.get_text()))\n",
        "\n",
        "    num_certified = list1[1]\n",
        "\n",
        "    # Number of Computer Labs\n",
        "\n",
        "    computer = soup.find('div', {'id': 'laboratorium'})\n",
        "\n",
        "    temp = []\n",
        "    for el in computer.find_all('td', class_='text-right'):\n",
        "        temp.append(int(el.get_text()))\n",
        "\n",
        "    num_computer_lab = temp[4]\n",
        "    \n",
        "    return list([school_name, num_teachers, num_boys, num_girls, num_classrooms, electricity_power, land_area, internet_access, electricity_access, num_certified, num_computer_lab])"
      ],
      "execution_count": null,
      "outputs": []
    },
    {
      "cell_type": "code",
      "metadata": {
        "id": "WZQVute0C2FN",
        "colab_type": "code",
        "colab": {
          "base_uri": "https://localhost:8080/",
          "height": 34
        },
        "outputId": "e165c825-824d-4b42-bb54-e9bcc016488a"
      },
      "source": [
        "example = scrape_info(url)\n",
        "print(example)"
      ],
      "execution_count": null,
      "outputs": [
        {
          "output_type": "stream",
          "text": [
            "['(20109903) SDS Azhari Islamic School Cilandak', 9, 55, 49, 6, 23000, 5000, 0, 1, 4, 0]\n"
          ],
          "name": "stdout"
        }
      ]
    }
  ]
}